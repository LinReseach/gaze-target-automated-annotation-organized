{
 "cells": [
  {
   "cell_type": "code",
   "execution_count": null,
   "id": "bef289e3",
   "metadata": {},
   "outputs": [],
   "source": [
    "# get full dataset/arrange data"
   ]
  },
  {
   "cell_type": "code",
   "execution_count": null,
   "id": "eab3f129",
   "metadata": {},
   "outputs": [],
   "source": [
    "553+959+158+7074+51735+4082+2056+5288+"
   ]
  },
  {
   "cell_type": "code",
   "execution_count": 14,
   "id": "9e28b804",
   "metadata": {},
   "outputs": [],
   "source": [
    "import os\n",
    "import re\n",
    "import pandas as pd\n",
    "# df_vi=pd.read_csv('visible.csv')\n",
    "# df_invi=pd.read_csv('invisible.csv')\n",
    "# df_m=pd.read_csv('annotations_double.csv')\n",
    "# df_invi_base=pd.read_csv('base_invis.csv')\n",
    "# df_invi_base = df_invi_base.rename(columns={'class': 'base_class'})\n",
    "# df_invi=pd.merge(df_invi,df_invi_base[['file','framenumber','base_class']] , on=['file','framenumber'], how=\"inner\")\n",
    "# df_vi['case']='visible'\n",
    "# df_vi=df_vi[['file','framenumber','base_ff','is_blurry','class','base_class','m2prop_class','case']]\n",
    "# df_invi=df_invi[['file','framenumber','base_ff','is_blurry','class','m2prop_class','case','base_class']]\n",
    "# dft=df_vi.append(df_invi, ignore_index=True)\n",
    "# # file: video name\n",
    "# # base_ff: face(1),no_face(0),abnormal_face(2);\n",
    "# # class: class from manual annotation\n",
    "# # base_class: class from baseline method\n",
    "# # m2prop_class: class from l2cs model with improved mapping approach(max(propotion of gaze length in diagnal of bb))\n",
    "# dft = dft.rename(columns={'file': 'video', 'framenumber': 'frame','class':'manual','base_ff':'face','m2prop_class':'l2cs','base_class':'baseline'})\n",
    "# dft.to_csv('dataset.csv')"
   ]
  },
  {
   "cell_type": "code",
   "execution_count": 15,
   "id": "bbc38e8c",
   "metadata": {},
   "outputs": [],
   "source": [
    "# input data"
   ]
  },
  {
   "cell_type": "code",
   "execution_count": 16,
   "id": "e464ad5f",
   "metadata": {},
   "outputs": [],
   "source": [
    "import os\n",
    "import re\n",
    "import pandas as pd\n",
    "dft=pd.read_csv('dataset.csv')\n",
    "dft=dft[(dft['face']==1)&(dft['manual']!=4)]\n"
   ]
  },
  {
   "cell_type": "code",
   "execution_count": 17,
   "id": "ccfe09a2",
   "metadata": {},
   "outputs": [],
   "source": [
    "# #debug\n",
    "# df=dft.copy()\n",
    "# x=0\n",
    "# for f in df[(df['case']=='visible')]['video'].unique(): \n",
    "# #     n_label=len(df[df['video']==f]['manual'].unique())\n",
    "#     if 3 in df[df['video']==f]['manual'].unique():\n",
    "#         x=x+1\n",
    "    "
   ]
  },
  {
   "cell_type": "code",
   "execution_count": 18,
   "id": "9b809b6f",
   "metadata": {},
   "outputs": [
    {
     "data": {
      "text/plain": [
       "42"
      ]
     },
     "execution_count": 18,
     "metadata": {},
     "output_type": "execute_result"
    }
   ],
   "source": [
    "x"
   ]
  },
  {
   "cell_type": "code",
   "execution_count": 19,
   "id": "e51ee647",
   "metadata": {},
   "outputs": [],
   "source": [
    "#frame level to event level¶"
   ]
  },
  {
   "cell_type": "code",
   "execution_count": 20,
   "id": "c9ffb0e2",
   "metadata": {},
   "outputs": [
    {
     "name": "stdout",
     "output_type": "stream",
     "text": [
      "226256\n"
     ]
    }
   ],
   "source": [
    "import pandas as pd\n",
    "from itertools import groupby\n",
    "manual_event_group = []\n",
    "\n",
    "for f in dft['video'].unique():\n",
    "    list_manual = dft[dft['video'] == f]['manual'].tolist()\n",
    "    count_dups = [sum(1 for _ in group) for _, group in groupby(list_manual)]\n",
    "    count = 1\n",
    "    for cd in count_dups:\n",
    "        manual_event_group.extend([count] * cd)\n",
    "        count += 1\n",
    "\n",
    "print(len(manual_event_group))\n",
    "dft['event_group'] = manual_event_group"
   ]
  },
  {
   "cell_type": "code",
   "execution_count": 21,
   "id": "4f27b9e8",
   "metadata": {},
   "outputs": [],
   "source": [
    "#find the value have the most frequency in every group\n",
    "df=dft.copy()\n",
    "most_frequent_values = df.groupby(['video','event_group'])[['l2cs','baseline']].apply(lambda x: x.mode().iloc[0])\n",
    "# Merge the most frequent values back to the original DataFrame\n",
    "df = df.merge(most_frequent_values, on=['video','event_group'], suffixes=('', '_most_frequent'))"
   ]
  },
  {
   "cell_type": "code",
   "execution_count": 22,
   "id": "f7c58976",
   "metadata": {},
   "outputs": [
    {
     "data": {
      "text/plain": [
       "0.0"
      ]
     },
     "execution_count": 22,
     "metadata": {},
     "output_type": "execute_result"
    }
   ],
   "source": [
    "0.0\n"
   ]
  },
  {
   "cell_type": "code",
   "execution_count": 23,
   "id": "ca24c2d2",
   "metadata": {},
   "outputs": [],
   "source": [
    "# pretest: confusion matrix"
   ]
  },
  {
   "cell_type": "code",
   "execution_count": 30,
   "id": "75fea33e",
   "metadata": {},
   "outputs": [
    {
     "name": "stdout",
     "output_type": "stream",
     "text": [
      "553\n",
      "1512\n",
      "1512\n",
      "1670\n",
      "8744\n",
      "60479\n",
      "64561\n",
      "66617\n",
      "71905\n",
      "84175\n",
      "90895\n",
      "99939\n",
      "105623\n",
      "116651\n",
      "117423\n",
      "121683\n"
     ]
    },
    {
     "data": {
      "image/png": "[encoded data removed]",
      "text/plain": [
       "<Figure size 576x432 with 2 Axes>"
      ]
     },
     "metadata": {
      "needs_background": "light"
     },
     "output_type": "display_data"
    }
   ],
   "source": [
    "from sklearn.metrics import confusion_matrix\n",
    "import matplotlib.pyplot as plt\n",
    "import numpy as np\n",
    "plt.rcParams['font.size'] = 18\n",
    "# Assuming you have actual and predicted labels for your 4-class classification\n",
    "actual_labels = df[df['case']=='visible']['manual']  # Replace with your actual labels\n",
    "predicted_labels = df[df['case']=='visible']['l2cs_most_frequent']  # Replace with your predicted labels\n",
    "\n",
    "# Compute confusion matrix\n",
    "cm = confusion_matrix(actual_labels, predicted_labels)\n",
    "\n",
    "# Create a figure and a matrix subplot\n",
    "plt.figure(figsize=(8, 6))\n",
    "plt.imshow(cm, interpolation='nearest', cmap=plt.cm.Blues)\n",
    "plt.title('Confusion Matrix(l2cs, visible case)')\n",
    "plt.colorbar()\n",
    "\n",
    "# Creating labels for classes\n",
    "classes = ['table', 'robot', 'tablet', 'elsewhere']\n",
    "#table,robot,tablet,elsewhere\n",
    "# Adding ticks and labels to the plot\n",
    "tick_marks = np.arange(len(classes))\n",
    "plt.xticks(tick_marks, classes, rotation=45)\n",
    "plt.yticks(tick_marks, classes)\n",
    "s=0\n",
    "# Adding the actual numbers inside the cells\n",
    "thresh = cm.max() / 2.\n",
    "for i in range(cm.shape[0]):\n",
    "    for j in range(cm.shape[1]):\n",
    "        plt.text(j, i, format(cm[i, j], 'd'),\n",
    "                 horizontalalignment=\"center\",\n",
    "                 color=\"white\" if cm[i, j] > thresh else \"black\")\n",
    "        s=s+cm[i,j]\n",
    "        print(s)\n",
    "\n",
    "plt.tight_layout()\n",
    "plt.ylabel('True label')\n",
    "plt.xlabel('Predicted label')\n",
    "plt.show()"
   ]
  },
  {
   "cell_type": "code",
   "execution_count": 31,
   "id": "b3ccfbc4",
   "metadata": {},
   "outputs": [],
   "source": [
    "# F1 score, precision and recall"
   ]
  },
  {
   "cell_type": "code",
   "execution_count": 7,
   "id": "f1ed06d3",
   "metadata": {},
   "outputs": [
    {
     "name": "stdout",
     "output_type": "stream",
     "text": [
      "F1 Score: 0.5154\n",
      "              precision    recall  f1-score   support\n",
      "\n",
      "           0       0.03      0.33      0.05      1670\n",
      "           1       0.68      0.80      0.73     64947\n",
      "           2       0.58      0.20      0.30     33322\n",
      "           3       0.27      0.20      0.23     21744\n",
      "\n",
      "    accuracy                           0.52    121683\n",
      "   macro avg       0.39      0.38      0.33    121683\n",
      "weighted avg       0.57      0.52      0.52    121683\n",
      "\n",
      "F1 Score: 0.5346\n",
      "              precision    recall  f1-score   support\n",
      "\n",
      "           0       0.08      0.25      0.12      1670\n",
      "           1       0.73      0.73      0.73     64947\n",
      "           2       0.71      0.19      0.29     33322\n",
      "           3       0.27      0.53      0.36     21744\n",
      "\n",
      "    accuracy                           0.54    121683\n",
      "   macro avg       0.45      0.42      0.37    121683\n",
      "weighted avg       0.63      0.54      0.53    121683\n",
      "\n",
      "F1 Score: 0.6374\n",
      "              precision    recall  f1-score   support\n",
      "\n",
      "           0       0.28      0.28      0.28      6794\n",
      "           1       0.76      0.77      0.76     58449\n",
      "           2       0.67      0.48      0.56     30522\n",
      "           3       0.28      0.53      0.37      8808\n",
      "\n",
      "    accuracy                           0.63    104573\n",
      "   macro avg       0.50      0.51      0.49    104573\n",
      "weighted avg       0.66      0.63      0.64    104573\n",
      "\n",
      "F1 Score: 0.6026\n",
      "              precision    recall  f1-score   support\n",
      "\n",
      "           0       0.76      0.71      0.74      6794\n",
      "           1       0.66      0.85      0.74     58449\n",
      "           2       0.70      0.28      0.40     30522\n",
      "           3       0.24      0.29      0.26      8808\n",
      "\n",
      "    accuracy                           0.63    104573\n",
      "   macro avg       0.59      0.53      0.54    104573\n",
      "weighted avg       0.64      0.63      0.60    104573\n",
      "\n"
     ]
    }
   ],
   "source": [
    "from sklearn.metrics import f1_score\n",
    "from sklearn.metrics import classification_report\n",
    "# Assuming you have actual and predicted labels for your 4-class classification\n",
    "actual_labels = df[df['case']=='visible']['manual']  # Replace with your actual labels\n",
    "predicted_labels = df[df['case']=='visible']['l2cs_most_frequent']\n",
    "# Calculate F1 score for each class and average\n",
    "f1 = f1_score(actual_labels, predicted_labels, average='weighted')\n",
    "report = classification_report(actual_labels, predicted_labels)\n",
    "print(f\"F1 Score: {f1:.4f}\")\n",
    "print(report)\n",
    "\n",
    "actual_labels = df[df['case']=='visible']['manual']  # Replace with your actual labels\n",
    "predicted_labels = df[df['case']=='visible']['baseline_most_frequent']\n",
    "# Calculate F1 score for each class and average\n",
    "f1 = f1_score(actual_labels, predicted_labels, average='weighted')\n",
    "report = classification_report(actual_labels, predicted_labels)\n",
    "print(f\"F1 Score: {f1:.4f}\")\n",
    "print(report)\n",
    "\n",
    "actual_labels = df[df['case']=='invisible']['manual']  # Replace with your actual labels\n",
    "predicted_labels = df[df['case']=='invisible']['l2cs_most_frequent']\n",
    "# Calculate F1 score for each class and average\n",
    "f1 = f1_score(actual_labels, predicted_labels, average='weighted')\n",
    "report = classification_report(actual_labels, predicted_labels)\n",
    "print(f\"F1 Score: {f1:.4f}\")\n",
    "print(report)\n",
    "\n",
    "actual_labels = df[df['case']=='invisible']['manual']  # Replace with your actual labels\n",
    "predicted_labels = df[df['case']=='invisible']['baseline_most_frequent']\n",
    "# Calculate F1 score for each class and average\n",
    "f1 = f1_score(actual_labels, predicted_labels, average='weighted')\n",
    "report = classification_report(actual_labels, predicted_labels)\n",
    "print(f\"F1 Score: {f1:.4f}\")\n",
    "print(report)\n"
   ]
  },
  {
   "cell_type": "code",
   "execution_count": 8,
   "id": "a1bf311a",
   "metadata": {},
   "outputs": [
    {
     "name": "stdout",
     "output_type": "stream",
     "text": [
      "F1 Score for each class:\n",
      "Class 0: 1.0000\n",
      "Class 1: 1.0000\n",
      "Class 2: 0.6667\n",
      "Class 3: 0.6667\n"
     ]
    },
    {
     "data": {
      "text/plain": [
       "0.6666666666666666"
      ]
     },
     "execution_count": 8,
     "metadata": {},
     "output_type": "execute_result"
    }
   ],
   "source": [
    "\n",
    "\n",
    "from sklearn.metrics import f1_score\n",
    "\n",
    "# Assuming you have actual and predicted labels for your 4-class classification\n",
    "actual_labels = [0, 1, 2, 3, 1, 2, 0, 3, 3, 2]  # Replace with your actual labels\n",
    "predicted_labels = [0, 1, 2, 3, 1, 3, 0, 2, 3, 2]  # Replace with your predicted labels\n",
    "\n",
    "# Calculate F1 score for each class\n",
    "f1_per_class = f1_score(actual_labels, predicted_labels, average=None)\n",
    "\n",
    "print(\"F1 Score for each class:\")\n",
    "for i, f1 in enumerate(f1_per_class):\n",
    "    print(f\"Class {i}: {f1:.4f}\")\n",
    "f1_per_class[3] "
   ]
  },
  {
   "cell_type": "code",
   "execution_count": 76,
   "id": "3e1b70fd",
   "metadata": {},
   "outputs": [],
   "source": [
    "# compare baseline and l2cs on visible data and invisible data"
   ]
  },
  {
   "cell_type": "code",
   "execution_count": null,
   "id": "86330f71",
   "metadata": {},
   "outputs": [],
   "source": []
  },
  {
   "cell_type": "code",
   "execution_count": 32,
   "id": "d7a59d15",
   "metadata": {},
   "outputs": [],
   "source": [
    "from sklearn.metrics import f1_score\n",
    "import matplotlib.pyplot as plt\n",
    "f1_vi=pd.DataFrame()\n",
    "df_l2cs_vi = []\n",
    "df_base_vi = []\n",
    "for f in df[df['case']=='visible']['video'].unique():\n",
    "    actual_labels = df[df['video']==f]['manual']  # Replace with your actual labels\n",
    " \n",
    "    predicted_labels_baseline = df[df['video']==f]['baseline_most_frequent']\n",
    "    predicted_labels_l2cs = df[df['video']==f]['l2cs_most_frequent']\n",
    "    f1_l2cs=f1_score(actual_labels, predicted_labels_l2cs, average='weighted')\n",
    "    f1_baseline=f1_score(actual_labels, predicted_labels_baseline, average='weighted')\n",
    "\n",
    "    df_l2cs_vi.append(f1_l2cs)\n",
    "    df_base_vi.append(f1_baseline)\n",
    "f1_vi['l2cs']=df_l2cs_vi\n",
    "f1_vi['baseline']=df_base_vi\n",
    "\n",
    "f1_invi=pd.DataFrame()\n",
    "df_l2cs_invi = []\n",
    "df_base_invi = []\n",
    "for f in df[df['case']=='invisible']['video'].unique():\n",
    "    actual_labels = df[df['video']==f]['manual']  # Replace with your actual labels\n",
    " \n",
    "    predicted_labels_baseline = df[df['video']==f]['baseline_most_frequent']\n",
    "    predicted_labels_l2cs = df[df['video']==f]['l2cs_most_frequent']\n",
    "    f1_l2cs=f1_score(actual_labels, predicted_labels_l2cs, average='weighted')\n",
    "    f1_baseline=f1_score(actual_labels, predicted_labels_baseline, average='weighted')\n",
    "\n",
    "    df_l2cs_invi.append(f1_l2cs)\n",
    "    df_base_invi.append(f1_baseline)\n",
    "f1_invi['l2cs']=df_l2cs_invi\n",
    "f1_invi['baseline']=df_base_invi\n",
    "\n",
    "l2cs=pd.DataFrame()\n",
    "baseline=pd.DataFrame()\n",
    "l2cs['vi']=f1_vi['l2cs']\n",
    "l2cs['invi']=f1_invi['l2cs']\n",
    "baseline['vi']=f1_vi['baseline']\n",
    "baseline['invi']=f1_invi['baseline']"
   ]
  },
  {
   "cell_type": "code",
   "execution_count": 34,
   "id": "0d22978c",
   "metadata": {},
   "outputs": [
    {
     "name": "stdout",
     "output_type": "stream",
     "text": [
      "l2cs        0.507057\n",
      "baseline    0.510488\n",
      "dtype: float64\n",
      "l2cs        0.604617\n",
      "baseline    0.540681\n",
      "dtype: float64\n",
      "l2cs        0.212052\n",
      "baseline    0.244924\n",
      "dtype: float64\n",
      "l2cs        0.264022\n",
      "baseline    0.221806\n",
      "dtype: float64\n",
      "-0.0819010909344269 0.9350968063647636\n",
      "1.3663758106849528 0.17876361710019747\n",
      "-1.93261681588026 0.05649963427233465\n",
      "-0.6129513917202404 0.5414893853384335\n"
     ]
    }
   ],
   "source": [
    "print(f1_vi.mean())\n",
    "print(f1_invi.mean())\n",
    "\n",
    "print(f1_vi.std())\n",
    "print(f1_invi.std())\n",
    "\n",
    "import scipy.stats as stats\n",
    "t_statistic, p_value = stats.ttest_rel(f1_vi['l2cs'], f1_vi['baseline'])\n",
    "print(t_statistic, p_value)\n",
    "t_statistic, p_value = stats.ttest_rel(f1_invi['l2cs'], f1_invi['baseline'])\n",
    "print(t_statistic, p_value)\n",
    "t_statistic, p_value = stats.ttest_ind(f1_vi['l2cs'], f1_invi['l2cs'])\n",
    "print(t_statistic, p_value)\n",
    "t_statistic, p_value = stats.ttest_ind(f1_vi['baseline'], f1_invi['baseline'])\n",
    "print(t_statistic, p_value)"
   ]
  },
  {
   "cell_type": "code",
   "execution_count": 37,
   "id": "f4912c2a",
   "metadata": {},
   "outputs": [
    {
     "data": {
      "image/png": "[encoded data removed]",
      "text/plain": [
       "<Figure size 432x288 with 1 Axes>"
      ]
     },
     "metadata": {
      "needs_background": "light"
     },
     "output_type": "display_data"
    }
   ],
   "source": [
    "import matplotlib.pyplot as plt\n",
    "import numpy as np\n",
    "plt.rcParams['font.size'] = 14\n",
    "# Data for the two vectors and their corresponding error bars\n",
    "groups = ['Visible data',  'Invisible data']\n",
    "values_vector1 = np.array(l2cs.mean())\n",
    "values_vector2 = np.array(baseline.mean())\n",
    "errors_vector1 = np.array(l2cs.sem())\n",
    "errors_vector2 = np.array(baseline.sem())\n",
    "\n",
    "# Create a bar plot with error bars\n",
    "x = np.arange(len(groups))\n",
    "width = 0.2\n",
    "\n",
    "fig, ax = plt.subplots()\n",
    "rects1 = ax.bar(x - width/2, values_vector1, width, label='GEM', hatch='///',yerr=errors_vector1, capsize=5)\n",
    "rects2 = ax.bar(x + width/2, values_vector2, width, label='TDM', yerr=errors_vector2, capsize=5)\n",
    "\n",
    "ax.set_ylabel('Weighted F1 score',fontsize=15)\n",
    "# ax.set_title('Bar Plot Comparison with Error Bars')\n",
    "\n",
    "ax.set_xticks(x)\n",
    "ax.set_xticklabels(groups)\n",
    "ax.legend()\n",
    "\n",
    "# fig.tight_layout()about\n",
    "\n",
    "plt.show()\n",
    "\n"
   ]
  },
  {
   "cell_type": "code",
   "execution_count": 29,
   "id": "5f69ece4",
   "metadata": {},
   "outputs": [
    {
     "data": {
      "text/plain": [
       "vi      0.510488\n",
       "invi    0.540681\n",
       "dtype: float64"
      ]
     },
     "execution_count": 29,
     "metadata": {},
     "output_type": "execute_result"
    }
   ],
   "source": [
    "l2cs.mean()\n",
    "baseline.mean()"
   ]
  },
  {
   "cell_type": "code",
   "execution_count": 152,
   "id": "f6529488",
   "metadata": {},
   "outputs": [],
   "source": [
    "\n",
    "l2cs_vi=[0.05,0.73,0.40,0.23]\n",
    "baseline_vi=[0.12,0.73,0.29,0.36]\n",
    "l2cs_invi=[0.28,0.76,0.56,0.37]\n",
    "baseline_invi=[0.74,0.74,0.40,0.26]"
   ]
  },
  {
   "cell_type": "code",
   "execution_count": 160,
   "id": "4cdfd591",
   "metadata": {},
   "outputs": [
    {
     "data": {
      "image/png": "[encoded data removed]",
      "text/plain": [
       "<Figure size 432x288 with 1 Axes>"
      ]
     },
     "metadata": {
      "needs_background": "light"
     },
     "output_type": "display_data"
    }
   ],
   "source": [
    "import matplotlib.pyplot as plt\n",
    "import numpy as np\n",
    "plt.rcParams['font.size'] = 14\n",
    "l2cs_vi=[0.05,0.73,0.40,0.23]\n",
    "baseline_vi=[0.12,0.73,0.29,0.36]\n",
    "l2cs_invi=[0.28,0.76,0.56,0.37]\n",
    "baseline_invi=[0.74,0.74,0.40,0.26]\n",
    "# Data for the two vectors and their corresponding error bars\n",
    "groups = ['Table','Robot',  'Tablet', 'Elsewhere']\n",
    "values_vector1 = np.array(l2cs_vi)\n",
    "values_vector2 = np.array(baseline_vi)\n",
    "values_vector3 = np.array(l2cs_invi)\n",
    "values_vector4 = np.array(baseline_invi)\n",
    "\n",
    "# Create a bar plot with error bars\n",
    "x = np.arange(len(groups))\n",
    "width = 0.2\n",
    "\n",
    "fig, ax = plt.subplots()\n",
    "rects1 = ax.bar(x - width*1.5, values_vector1, width, label='GazeBB,vi', hatch='///')\n",
    "rects2 = ax.bar(x - width*0.5, values_vector2, width, label='Baseline,vi')\n",
    "rects3 = ax.bar(x + width*0.5, values_vector3, width, label='GazeBB,invi', hatch='|||',color='lightblue')\n",
    "rects4 = ax.bar(x + width*1.5, values_vector4, width, label='Baseline,invi',hatch='--',color='lightyellow')\n",
    "\n",
    "#ax.set_xlabel('Lables(the percentage of its bounding box area in the image)',fontsize=15)\n",
    "ax.set_ylabel('F1 score',fontsize=15)\n",
    "# ax.set_title('Bar Plot Comparison with Error Bars')\n",
    "\n",
    "ax.set_xticks(x)\n",
    "ax.set_xticklabels(groups)\n",
    "ax.legend(loc='upper right', bbox_to_anchor=(1.2, 1))\n",
    "# ax.legend()\n",
    "plt.ylim((0, 0.8))\n",
    "# fig.tight_layout()about\n",
    "\n",
    "plt.show()\n"
   ]
  },
  {
   "cell_type": "code",
   "execution_count": 132,
   "id": "9f5d222c",
   "metadata": {},
   "outputs": [
    {
     "data": {
      "image/png": "[encoded data removed]",
      "text/plain": [
       "<Figure size 432x288 with 1 Axes>"
      ]
     },
     "metadata": {
      "needs_background": "light"
     },
     "output_type": "display_data"
    }
   ],
   "source": [
    "import matplotlib.pyplot as plt\n",
    "import numpy as np\n",
    "\n",
    "# Data\n",
    "categories = ['Category A', 'Category B', 'Category C', 'Category D']\n",
    "values1 = [10, 20, 15, 30]  # Values for the first y-axis\n",
    "values2 = [5, 15, 8, 25]  # Values for the second y-axis\n",
    "\n",
    "bar_width = 0.35  # Width of each bar\n",
    "index = np.arange(len(categories))  # Index for the x-axis positions\n",
    "\n",
    "fig, ax = plt.subplots()\n",
    "\n",
    "# Plotting bars for the first y-axis\n",
    "ax.bar(index, values1, bar_width, label='Values 1')\n",
    "\n",
    "# Plotting bars for the second y-axis\n",
    "ax.bar(index + bar_width, values2, bar_width, label='Values 2')\n",
    "\n",
    "# Adding labels, title, and legend\n",
    "ax.set_xlabel('Categories')\n",
    "ax.set_ylabel('Values 1')\n",
    "ax.set_title('Bar plot with two y-axes on one bar')\n",
    "ax.set_xticks(index + bar_width / 2)\n",
    "ax.set_xticklabels(categories)\n",
    "ax.legend()\n",
    "\n",
    "plt.show()\n"
   ]
  },
  {
   "cell_type": "code",
   "execution_count": 23,
   "id": "f10cb478",
   "metadata": {},
   "outputs": [],
   "source": [
    "l2cs0,l2cs1,l2cs2,l2cs3=[],[],[],[]\n",
    "base0,base1,base2,base3=[],[],[],[]\n",
    "l2cs_label_vi=pd.DataFrame()\n",
    "base_label_vi=pd.DataFrame()\n",
    "l2cs_label_invi=pd.DataFrame()\n",
    "base_label_invi=pd.DataFrame()\n",
    "lvi=0\n",
    "for f in df[(df['case']=='visible')]['video'].unique(): \n",
    "    n_label=len(df[df['video']==f]['manual'].unique())\n",
    "    if n_label==4:\n",
    "        lvi=lvi+1\n",
    "        #print(df[df['video']==f]['manual'].unique())\n",
    "        actual_labels = df[df['video']==f]['manual']  # Replace with your actual labels\n",
    "        predicted_labels_baseline = df[df['video']==f]['baseline_most_frequent']\n",
    "        predicted_labels_l2cs = df[df['video']==f]['l2cs_most_frequent']\n",
    "        f1_l2cs = f1_score(actual_labels, predicted_labels_l2cs, average=None)\n",
    "        f1_base = f1_score(actual_labels, predicted_labels_baseline, average=None)\n",
    "        l2cs0.append(f1_l2cs[0])\n",
    "        l2cs1.append(f1_l2cs[1])\n",
    "        l2cs2.append(f1_l2cs[2])\n",
    "        l2cs3.append(f1_l2cs[3])\n",
    "        base0.append(f1_base[0])\n",
    "        base1.append(f1_base[1])\n",
    "        base2.append(f1_base[2])\n",
    "        base3.append(f1_base[3])\n",
    "l2cs_label_vi[0]=l2cs0\n",
    "l2cs_label_vi[1]=l2cs1\n",
    "l2cs_label_vi[2]=l2cs2\n",
    "l2cs_label_vi[3]=l2cs3\n",
    "base_label_vi[0]=base0\n",
    "base_label_vi[1]=base1\n",
    "base_label_vi[2]=base2\n",
    "base_label_vi[3]=base3\n",
    "\n",
    "lnivi=0\n",
    "for f in df[(df['case']=='invisible')]['video'].unique(): \n",
    "    n_label=len(df[df['video']==f]['manual'].unique())\n",
    "    if n_label==4:\n",
    "        lnivi=lnivi+1\n",
    "        #print(df[df['video']==f]['manual'].unique())\n",
    "        actual_labels = df[df['video']==f]['manual']  # Replace with your actual labels\n",
    "        predicted_labels_baseline = df[df['video']==f]['baseline_most_frequent']\n",
    "        predicted_labels_l2cs = df[df['video']==f]['l2cs_most_frequent']\n",
    "        f1_l2cs = f1_score(actual_labels, predicted_labels_l2cs, average=None)\n",
    "        f1_base = f1_score(actual_labels, predicted_labels_baseline, average=None)\n",
    "        l2cs0.append(f1_l2cs[0])\n",
    "        l2cs1.append(f1_l2cs[1])\n",
    "        l2cs2.append(f1_l2cs[2])\n",
    "        l2cs3.append(f1_l2cs[3])\n",
    "        base0.append(f1_base[0])\n",
    "        base1.append(f1_base[1])\n",
    "        base2.append(f1_base[2])\n",
    "        base3.append(f1_base[3])\n",
    "l2cs_label_invi[0]=l2cs0\n",
    "l2cs_label_invi[1]=l2cs1\n",
    "l2cs_label_invi[2]=l2cs2\n",
    "l2cs_label_invi[3]=l2cs3\n",
    "base_label_invi[0]=base0\n",
    "base_label_invi[1]=base1\n",
    "base_label_invi[2]=base2\n",
    "base_label_invi[3]=base3"
   ]
  },
  {
   "cell_type": "code",
   "execution_count": 21,
   "id": "4cf41898",
   "metadata": {},
   "outputs": [
    {
     "name": "stdout",
     "output_type": "stream",
     "text": [
      "-0.08766245534706968 0.9314809290688741\n",
      "-0.1871411179503815 0.8544391015870628\n",
      "1.3202437555605637 0.2095277962646998\n",
      "-1.8758393576720773 0.08330978167957138\n",
      "-1.1973595162367086 0.23996114772535757\n",
      "-0.1462020505995333 0.8846790300546904\n",
      "2.109602598155037 0.04280559697848079\n",
      "0.40271427600001614 0.6898362646639622\n"
     ]
    }
   ],
   "source": [
    "import scipy.stats as stats\n",
    "import numpy as np\n",
    "\n",
    "# Perform one-way ANOVA\n",
    "# f_statistic, p_value = stats.f_oneway(l2cs_label_vi[0], l2cs_label_vi[1], l2cs_label_vi[2],l2cs_label_vi[3])\n",
    "# print(f_statistic, p_value)\n",
    "# f_statistic, p_value = stats.f_oneway(l2cs_label_invi[0], l2cs_label_invi[1], l2cs_label_invi[2],l2cs_label_invi[3])\n",
    "# print(f_statistic, p_value)\n",
    "# f_statistic, p_value = stats.f_oneway(base_label_vi[0], base_label_vi[1], base_label_vi[2],base_label_vi[3])\n",
    "# print(f_statistic, p_value)\n",
    "# f_statistic, p_value = stats.f_oneway(base_label_invi[0], base_label_invi[1], base_label_invi[2],base_label_invi[3])\n",
    "# print(f_statistic, p_value)\n",
    "\n",
    "t_statistic, p_value = stats.ttest_rel(l2cs_label_vi[0], base_label_vi[0])\n",
    "print(t_statistic, p_value)\n",
    "t_statistic, p_value = stats.ttest_rel(l2cs_label_vi[1], base_label_vi[1])\n",
    "print(t_statistic, p_value)\n",
    "t_statistic, p_value = stats.ttest_rel(l2cs_label_vi[2], base_label_vi[2])\n",
    "print(t_statistic, p_value)\n",
    "t_statistic, p_value = stats.ttest_rel(l2cs_label_vi[3], base_label_vi[3])\n",
    "print(t_statistic, p_value)\n",
    "\n",
    "t_statistic, p_value = stats.ttest_rel(l2cs_label_invi[0], base_label_invi[0])\n",
    "print(t_statistic, p_value)\n",
    "t_statistic, p_value = stats.ttest_rel(l2cs_label_invi[1], base_label_invi[1])\n",
    "print(t_statistic, p_value)\n",
    "t_statistic, p_value = stats.ttest_rel(l2cs_label_invi[2], base_label_invi[2])\n",
    "print(t_statistic, p_value)\n",
    "t_statistic, p_value = stats.ttest_rel(l2cs_label_invi[3], base_label_invi[3])\n",
    "print(t_statistic, p_value)\n",
    "\n"
   ]
  },
  {
   "cell_type": "code",
   "execution_count": null,
   "id": "1b85029e",
   "metadata": {},
   "outputs": [],
   "source": []
  },
  {
   "cell_type": "code",
   "execution_count": null,
   "id": "e21b94f9",
   "metadata": {},
   "outputs": [],
   "source": [
    "import matplotlib.pyplot as plt\n",
    "import numpy as np\n",
    "plt.rcParams['font.size'] = 16\n",
    "# Data for the two vectors and their corresponding error bars\n",
    "groups = ['Table',  'Robot','Tablet','Elsewhere']\n",
    "values_vector1 = np.array(l2cs_label_vi.mean())\n",
    "values_vector2 = np.array(base_label_vi.mean())\n",
    "errors_vector1 = np.array(l2cs_label_vi.sem())\n",
    "errors_vector2 = np.array(base_label_vi.sem())\n",
    "\n",
    "\n",
    "\n",
    "# Create a bar plot with error bars\n",
    "x = np.arange(len(groups))\n",
    "width = 0.4\n",
    "\n",
    "fig, ax = plt.subplots()\n",
    "rects1 = ax.bar(x - width/2, values_vector1, width, label='GazeBB', hatch='///',yerr=errors_vector1, capsize=5)\n",
    "rects2 = ax.bar(x + width/2, values_vector2, width, label='Baseline', yerr=errors_vector2, capsize=5)\n",
    "\n",
    "ax.set_ylabel('F1 score',fontsize=15)\n",
    "# ax.set_title('Bar Plot Comparison with Error Bars')\n",
    "\n",
    "ax.set_xticks(x)\n",
    "ax.set_xticklabels(groups)\n",
    "ax.legend()\n",
    "\n",
    "# fig.tight_layout()about\n",
    "plt.ylim((0, 0.8))\n",
    "plt.show()\n"
   ]
  },
  {
   "cell_type": "code",
   "execution_count": 20,
   "id": "db1b58fe",
   "metadata": {},
   "outputs": [
    {
     "name": "stdout",
     "output_type": "stream",
     "text": [
      "[0 1 2 3]\n"
     ]
    },
    {
     "data": {
      "image/png": "[encoded data removed]",
      "text/plain": [
       "<Figure size 432x288 with 1 Axes>"
      ]
     },
     "metadata": {
      "needs_background": "light"
     },
     "output_type": "display_data"
    },
    {
     "name": "stdout",
     "output_type": "stream",
     "text": [
      "0    0.170032\n",
      "1    0.615538\n",
      "2    0.201222\n",
      "3    0.207557\n",
      "dtype: float64\n",
      "0    0.180712\n",
      "1    0.629194\n",
      "2    0.096206\n",
      "3    0.351559\n",
      "dtype: float64\n",
      "0    0.219743\n",
      "1    0.648568\n",
      "2    0.325573\n",
      "3    0.344526\n",
      "dtype: float64\n",
      "0    0.317556\n",
      "1    0.656079\n",
      "2    0.195253\n",
      "3    0.316557\n",
      "dtype: float64\n"
     ]
    }
   ],
   "source": [
    "import matplotlib.pyplot as plt\n",
    "import numpy as np\n",
    "plt.rcParams['font.size'] = 16\n",
    "# Data for the two vectors and their corresponding error bars\n",
    "groups = ['Table',  'Robot','Tablet','Elsewhere']\n",
    "values_vector1 = np.array(l2cs_label_invi.mean())\n",
    "values_vector2 = np.array(base_label_invi.mean())\n",
    "errors_vector1 = np.array(l2cs_label_invi.sem())\n",
    "errors_vector2 = np.array(base_label_invi.sem())\n",
    "\n",
    "\n",
    "\n",
    "# Create a bar plot with error bars\n",
    "x = np.arange(len(groups))\n",
    "width = 0.4\n",
    "print(x)\n",
    "fig, ax = plt.subplots()\n",
    "rects1 = ax.bar(x - width/2, values_vector1, width, label='GazeBB', hatch='///',yerr=errors_vector1, capsize=5)\n",
    "rects2 = ax.bar(x + width/2, values_vector2, width, label='Baseline', yerr=errors_vector2, capsize=5)\n",
    "\n",
    "ax.set_ylabel('F1 score',fontsize=15)\n",
    "# ax.set_title('Bar Plot Comparison with Error Bars')\n",
    "\n",
    "ax.set_xticks(x)\n",
    "ax.set_xticklabels(groups)\n",
    "ax.legend()\n",
    "plt.ylim((0, 0.8))\n",
    "# fig.tight_layout()about\n",
    "\n",
    "plt.show()\n",
    "print(l2cs_label_vi.mean())\n",
    "print(base_label_vi.mean())\n",
    "print(l2cs_label_invi.mean())\n",
    "print(base_label_invi.mean())\n"
   ]
  },
  {
   "cell_type": "code",
   "execution_count": null,
   "id": "ec5f9563",
   "metadata": {},
   "outputs": [],
   "source": [
    "# explore why GazeBB perform better on label'tablet'"
   ]
  },
  {
   "cell_type": "code",
   "execution_count": 24,
   "id": "7c50d6a5",
   "metadata": {},
   "outputs": [],
   "source": [
    "#df[(df['manual']==0)&(df['case']=='invisible')][['video','frame']]\n",
    "#df[(df['manual']==2)&(df['case']=='invisible')&(df['baseline_most_frequent']!=2)&(df['l2cs_most_frequent']==2)][['video','frame']]"
   ]
  },
  {
   "cell_type": "code",
   "execution_count": 25,
   "id": "3d3ec169",
   "metadata": {},
   "outputs": [],
   "source": [
    "#df[(df['video']=='33011_sessie2_taskrobotEngagement')&(df['frame'].isin(range(1914,1917)))]"
   ]
  },
  {
   "cell_type": "code",
   "execution_count": 26,
   "id": "669d05ae",
   "metadata": {},
   "outputs": [],
   "source": [
    "#df[(df['video']=='33011_sessie2_taskrobotEngagement')&(df['event_group']==24)].head(60)"
   ]
  },
  {
   "cell_type": "code",
   "execution_count": null,
   "id": "fa4e5eb3",
   "metadata": {},
   "outputs": [],
   "source": []
  },
  {
   "cell_type": "code",
   "execution_count": null,
   "id": "b0a27225",
   "metadata": {},
   "outputs": [],
   "source": []
  }
 ],
 "metadata": {
  "kernelspec": {
   "display_name": "Python 3 (ipykernel)",
   "language": "python",
   "name": "python3"
  },
  "language_info": {
   "codemirror_mode": {
    "name": "ipython",
    "version": 3
   },
   "file_extension": ".py",
   "mimetype": "text/x-python",
   "name": "python",
   "nbconvert_exporter": "python",
   "pygments_lexer": "ipython3",
   "version": "3.9.7"
  }
 },
 "nbformat": 4,
 "nbformat_minor": 5
}
