{
 "cells": [
  {
   "cell_type": "code",
   "execution_count": 1,
   "id": "320d1255",
   "metadata": {},
   "outputs": [
    {
     "name": "stdout",
     "output_type": "stream",
     "text": [
      "Requirement already satisfied: moviepy in /opt/anaconda3/lib/python3.9/site-packages (1.0.3)\n",
      "Requirement already satisfied: decorator<5.0,>=4.0.2 in /opt/anaconda3/lib/python3.9/site-packages (from moviepy) (4.4.2)\n",
      "Requirement already satisfied: tqdm<5.0,>=4.11.2 in /opt/anaconda3/lib/python3.9/site-packages (from moviepy) (4.62.3)\n",
      "Requirement already satisfied: requests<3.0,>=2.8.1 in /opt/anaconda3/lib/python3.9/site-packages (from moviepy) (2.26.0)\n",
      "Requirement already satisfied: proglog<=1.0.0 in /opt/anaconda3/lib/python3.9/site-packages (from moviepy) (0.1.10)\n",
      "Requirement already satisfied: numpy>=1.17.3 in /opt/anaconda3/lib/python3.9/site-packages (from moviepy) (1.22.4)\n",
      "Requirement already satisfied: imageio<3.0,>=2.5 in /opt/anaconda3/lib/python3.9/site-packages (from moviepy) (2.9.0)\n",
      "Requirement already satisfied: imageio-ffmpeg>=0.2.0 in /opt/anaconda3/lib/python3.9/site-packages (from moviepy) (0.4.7)\n",
      "Requirement already satisfied: pillow in /opt/anaconda3/lib/python3.9/site-packages (from imageio<3.0,>=2.5->moviepy) (8.4.0)\n",
      "Requirement already satisfied: urllib3<1.27,>=1.21.1 in /opt/anaconda3/lib/python3.9/site-packages (from requests<3.0,>=2.8.1->moviepy) (1.26.7)\n",
      "Requirement already satisfied: certifi>=2017.4.17 in /opt/anaconda3/lib/python3.9/site-packages (from requests<3.0,>=2.8.1->moviepy) (2021.10.8)\n",
      "Requirement already satisfied: charset-normalizer~=2.0.0 in /opt/anaconda3/lib/python3.9/site-packages (from requests<3.0,>=2.8.1->moviepy) (2.0.4)\n",
      "Requirement already satisfied: idna<4,>=2.5 in /opt/anaconda3/lib/python3.9/site-packages (from requests<3.0,>=2.8.1->moviepy) (3.2)\n",
      "\u001b[33mDEPRECATION: pyodbc 4.0.0-unsupported has a non-standard version number. pip 24.1 will enforce this behaviour change. A possible replacement is to upgrade to a newer version of pyodbc or contact the author to suggest that they release a version with a conforming version number. Discussion can be found at https://github.com/pypa/pip/issues/12063\u001b[0m\u001b[33m\n",
      "\u001b[0m"
     ]
    }
   ],
   "source": [
    "!pip install moviepy\n"
   ]
  },
  {
   "cell_type": "code",
   "execution_count": 4,
   "id": "0485c823",
   "metadata": {},
   "outputs": [],
   "source": [
    "from moviepy.editor import VideoFileClip"
   ]
  },
  {
   "cell_type": "code",
   "execution_count": 6,
   "id": "5509786b",
   "metadata": {},
   "outputs": [
    {
     "name": "stdout",
     "output_type": "stream",
     "text": [
      "Moviepy - Building video /Users/chenglinlin/Documents/annotation/other dataset/Toddler-study/videos_bb/32_2_front.mp4.\n",
      "Moviepy - Writing video /Users/chenglinlin/Documents/annotation/other dataset/Toddler-study/videos_bb/32_2_front.mp4\n",
      "\n"
     ]
    },
    {
     "name": "stderr",
     "output_type": "stream",
     "text": [
      "                                                                                \r"
     ]
    },
    {
     "name": "stdout",
     "output_type": "stream",
     "text": [
      "Moviepy - Done !\n",
      "Moviepy - video ready /Users/chenglinlin/Documents/annotation/other dataset/Toddler-study/videos_bb/32_2_front.mp4\n"
     ]
    }
   ],
   "source": [
    "def convert_avi_to_mp4(input_file, output_file):\n",
    "    # Load the AVI file\n",
    "    video_clip = VideoFileClip(input_file)\n",
    "\n",
    "    # Save the video clip as MP4\n",
    "    video_clip.write_videofile(output_file, codec='libx264', fps=24)\n",
    "\n",
    "if __name__ == \"__main__\":\n",
    "    # Path to the input AVI file\n",
    "    input_avi = '/Users/chenglinlin/Documents/annotation/other dataset/Toddler-study/videos_bb/32_2_front.avi'\n",
    "\n",
    "    # Path to the output MP4 file\n",
    "    output_mp4 = '/Users/chenglinlin/Documents/annotation/other dataset/Toddler-study/videos_bb/32_2_front.mp4'\n",
    "\n",
    "    # Call the function to convert AVI to MP4\n",
    "    convert_avi_to_mp4(input_avi, output_mp4)"
   ]
  },
  {
   "cell_type": "code",
   "execution_count": 4,
   "id": "95bcb23d",
   "metadata": {},
   "outputs": [],
   "source": [
    "import cv2\n",
    "import os"
   ]
  },
  {
   "cell_type": "code",
   "execution_count": 5,
   "id": "dd3719dd",
   "metadata": {},
   "outputs": [
    {
     "ename": "AttributeError",
     "evalue": "module 'cv2' has no attribute 'imread'",
     "output_type": "error",
     "traceback": [
      "\u001b[0;31m---------------------------------------------------------------------------\u001b[0m",
      "\u001b[0;31mAttributeError\u001b[0m                            Traceback (most recent call last)",
      "\u001b[0;32m/var/folders/6s/sszdw3510gg2hfhxzfvvfy640000gn/T/ipykernel_11253/2170079660.py\u001b[0m in \u001b[0;36m<module>\u001b[0;34m\u001b[0m\n\u001b[1;32m     33\u001b[0m \u001b[0;34m\u001b[0m\u001b[0m\n\u001b[1;32m     34\u001b[0m     \u001b[0;31m# Call the function to convert frames to video\u001b[0m\u001b[0;34m\u001b[0m\u001b[0;34m\u001b[0m\u001b[0m\n\u001b[0;32m---> 35\u001b[0;31m     \u001b[0mframes_to_video\u001b[0m\u001b[0;34m(\u001b[0m\u001b[0minput_folder\u001b[0m\u001b[0;34m,\u001b[0m \u001b[0moutput_video\u001b[0m\u001b[0;34m,\u001b[0m \u001b[0mfps\u001b[0m\u001b[0;34m)\u001b[0m\u001b[0;34m\u001b[0m\u001b[0;34m\u001b[0m\u001b[0m\n\u001b[0m",
      "\u001b[0;32m/var/folders/6s/sszdw3510gg2hfhxzfvvfy640000gn/T/ipykernel_11253/2170079660.py\u001b[0m in \u001b[0;36mframes_to_video\u001b[0;34m(input_folder, output_video, fps)\u001b[0m\n\u001b[1;32m      7\u001b[0m \u001b[0;34m\u001b[0m\u001b[0m\n\u001b[1;32m      8\u001b[0m     \u001b[0;31m# Read the first image to get the width and height\u001b[0m\u001b[0;34m\u001b[0m\u001b[0;34m\u001b[0m\u001b[0m\n\u001b[0;32m----> 9\u001b[0;31m     \u001b[0mframe\u001b[0m \u001b[0;34m=\u001b[0m \u001b[0mcv2\u001b[0m\u001b[0;34m.\u001b[0m\u001b[0mimread\u001b[0m\u001b[0;34m(\u001b[0m\u001b[0mimage_files\u001b[0m\u001b[0;34m[\u001b[0m\u001b[0;36m0\u001b[0m\u001b[0;34m]\u001b[0m\u001b[0;34m)\u001b[0m\u001b[0;34m\u001b[0m\u001b[0;34m\u001b[0m\u001b[0m\n\u001b[0m\u001b[1;32m     10\u001b[0m     \u001b[0mheight\u001b[0m\u001b[0;34m,\u001b[0m \u001b[0mwidth\u001b[0m\u001b[0;34m,\u001b[0m \u001b[0m_\u001b[0m \u001b[0;34m=\u001b[0m \u001b[0mframe\u001b[0m\u001b[0;34m.\u001b[0m\u001b[0mshape\u001b[0m\u001b[0;34m\u001b[0m\u001b[0;34m\u001b[0m\u001b[0m\n\u001b[1;32m     11\u001b[0m \u001b[0;34m\u001b[0m\u001b[0m\n",
      "\u001b[0;31mAttributeError\u001b[0m: module 'cv2' has no attribute 'imread'"
     ]
    }
   ],
   "source": [
    "\n",
    "\n",
    "def frames_to_video(input_folder, output_video, fps):\n",
    "    # Get all the image filenames in the input folder\n",
    "    image_files = [os.path.join(input_folder, file) for file in os.listdir(input_folder) if file.endswith(('.png', '.jpg', '.jpeg', '.bmp'))]\n",
    "\n",
    "    # Sort the image files based on their names\n",
    "    image_files.sort()\n",
    "\n",
    "    # Read the first image to get the width and height\n",
    "    frame = cv2.imread(image_files[0])\n",
    "    height, width, _ = frame.shape\n",
    "\n",
    "    # Create a video writer object\n",
    "    fourcc = cv2.VideoWriter_fourcc(*'mp4v')  # You can use 'XVID' for .avi format\n",
    "    out = cv2.VideoWriter(output_video, fourcc, fps, (width, height))\n",
    "\n",
    "    # Write each frame to the video\n",
    "    for image_file in image_files:\n",
    "        frame = cv2.imread(image_file)\n",
    "        out.write(frame)\n",
    "\n",
    "    # Release the video writer object\n",
    "    out.release()\n",
    "\n",
    "if __name__ == \"__main__\":\n",
    "    # Path to the folder containing the frames\n",
    "    input_folder = '/Users/chenglinlin/Documents/annotation/other dataset/Toddler-study/40_2_front_l2cs/'\n",
    "\n",
    "    # Path to the output video file\n",
    "    output_video = \"/Users/chenglinlin/Documents/annotation/other dataset/Toddler-study/40_2_front_l2cs.mp4\"\n",
    "\n",
    "    # Frames per second (FPS) of the output video\n",
    "    fps = 24\n",
    "\n",
    "    # Call the function to convert frames to video\n",
    "    frames_to_video(input_folder, output_video, fps)\n"
   ]
  },
  {
   "cell_type": "code",
   "execution_count": null,
   "id": "c1e23ca9",
   "metadata": {},
   "outputs": [],
   "source": []
  }
 ],
 "metadata": {
  "kernelspec": {
   "display_name": "Python 3 (ipykernel)",
   "language": "python",
   "name": "python3"
  },
  "language_info": {
   "codemirror_mode": {
    "name": "ipython",
    "version": 3
   },
   "file_extension": ".py",
   "mimetype": "text/x-python",
   "name": "python",
   "nbconvert_exporter": "python",
   "pygments_lexer": "ipython3",
   "version": "3.9.7"
  }
 },
 "nbformat": 4,
 "nbformat_minor": 5
}
